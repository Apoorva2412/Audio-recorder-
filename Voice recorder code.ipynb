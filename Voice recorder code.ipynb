{
 "cells": [
  {
   "cell_type": "code",
   "execution_count": 1,
   "id": "795dff23",
   "metadata": {},
   "outputs": [
    {
     "name": "stdout",
     "output_type": "stream",
     "text": [
      "Requirement already satisfied: sounddevice in c:\\users\\apoorva mishra\\anaconda3\\lib\\site-packages (0.4.5)\n",
      "Requirement already satisfied: CFFI>=1.0 in c:\\users\\apoorva mishra\\anaconda3\\lib\\site-packages (from sounddevice) (1.15.0)\n",
      "Requirement already satisfied: pycparser in c:\\users\\apoorva mishra\\anaconda3\\lib\\site-packages (from CFFI>=1.0->sounddevice) (2.21)\n",
      "Note: you may need to restart the kernel to use updated packages.\n"
     ]
    }
   ],
   "source": [
    "pip install sounddevice"
   ]
  },
  {
   "cell_type": "code",
   "execution_count": null,
   "id": "5f6cc3e1",
   "metadata": {},
   "outputs": [],
   "source": [
    "import sounddevice\n",
    "from scipy.io.wavfile import write\n",
    "\n",
    "fs=44100\n",
    "\n",
    "second = int(input(\"Enter the Recording Time in second: \"))\n",
    "print(\"RECORDING......\\n\")\n",
    "\n",
    "record_voice= sounddevice.rec(int(second*fs), samplerate = fs,channels =2)\n",
    "\n",
    "sounddevice.wait()\n",
    "write(\"MyRecording.wav\",fs,record_voice)\n",
    "print(\"Recording is done please check your folder to listen the recording\")"
   ]
  },
  {
   "cell_type": "code",
   "execution_count": null,
   "id": "1b07f859",
   "metadata": {},
   "outputs": [],
   "source": [
    "pwd"
   ]
  },
  {
   "cell_type": "code",
   "execution_count": null,
   "id": "0917bbb1",
   "metadata": {},
   "outputs": [],
   "source": []
  }
 ],
 "metadata": {
  "kernelspec": {
   "display_name": "Python 3 (ipykernel)",
   "language": "python",
   "name": "python3"
  },
  "language_info": {
   "codemirror_mode": {
    "name": "ipython",
    "version": 3
   },
   "file_extension": ".py",
   "mimetype": "text/x-python",
   "name": "python",
   "nbconvert_exporter": "python",
   "pygments_lexer": "ipython3",
   "version": "3.9.12"
  }
 },
 "nbformat": 4,
 "nbformat_minor": 5
}
